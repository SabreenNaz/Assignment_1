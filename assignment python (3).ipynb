{
 "cells": [
  {
   "cell_type": "markdown",
   "id": "a5b8060c-d186-46a8-a292-3720908d925a",
   "metadata": {},
   "source": [
    "Q1. Create one variable containing following type of data:"
   ]
  },
  {
   "cell_type": "markdown",
   "id": "63629131-ce6c-45d1-ab51-cfe892cfb805",
   "metadata": {},
   "source": [
    "#Answer \n",
    "\n",
    "(i) string...  a= 'sabreen'\n",
    "\n",
    "(ii) list....  b= [ 2,4,8, True, False, 89.980, 5+3j,\"hemanth\"]\n",
    "\n",
    "(iii) float... c= (89.0808)\n",
    "\n",
    "(iv) tuple...  d= ( True, 4, 'gandhinagar',False)\n"
   ]
  },
  {
   "cell_type": "markdown",
   "id": "1df6ab42-bd71-4550-8b59-c06117dd46f2",
   "metadata": {},
   "source": [
    "Q2. Given are some following variables containing data:\n",
    "(i) var1 = ‘ ‘\n",
    "(ii) var2 = ‘[ DS , ML , Python]’\n",
    "(iii) var3 = [ ‘DS’ , ’ML’ , ‘Python’ ]\n",
    "(iv) var4 = 1.\n",
    "What will be the data type of the above given variable."
   ]
  },
  {
   "cell_type": "code",
   "execution_count": 19,
   "id": "573e7f26-9843-4c83-90cc-8d8d477f2d68",
   "metadata": {},
   "outputs": [],
   "source": [
    "var1=' '"
   ]
  },
  {
   "cell_type": "code",
   "execution_count": 20,
   "id": "b41ba65b-4af9-450f-82aa-0de3d9ad5989",
   "metadata": {},
   "outputs": [
    {
     "data": {
      "text/plain": [
       "str"
      ]
     },
     "execution_count": 20,
     "metadata": {},
     "output_type": "execute_result"
    }
   ],
   "source": [
    "type(var1)"
   ]
  },
  {
   "cell_type": "code",
   "execution_count": 30,
   "id": "9832b3e2-c8e0-44b5-944e-c5e724233b3f",
   "metadata": {},
   "outputs": [],
   "source": [
    "var2= ' [DS, ML, Python]'"
   ]
  },
  {
   "cell_type": "code",
   "execution_count": 31,
   "id": "845d9c0d-7005-482e-8fc3-82c88dec72ed",
   "metadata": {},
   "outputs": [
    {
     "data": {
      "text/plain": [
       "str"
      ]
     },
     "execution_count": 31,
     "metadata": {},
     "output_type": "execute_result"
    }
   ],
   "source": [
    "type(var2)"
   ]
  },
  {
   "cell_type": "code",
   "execution_count": 33,
   "id": "d7908cba-1c0b-4fed-abe3-b56ec20337d0",
   "metadata": {},
   "outputs": [],
   "source": [
    "var3= [ 'DS', 'ML', 'Pytrhon' ]"
   ]
  },
  {
   "cell_type": "code",
   "execution_count": 34,
   "id": "c1d04854-2492-41dd-8fc7-2fbae6059584",
   "metadata": {},
   "outputs": [
    {
     "data": {
      "text/plain": [
       "list"
      ]
     },
     "execution_count": 34,
     "metadata": {},
     "output_type": "execute_result"
    }
   ],
   "source": [
    "type(var3)"
   ]
  },
  {
   "cell_type": "code",
   "execution_count": 35,
   "id": "734bd572-12f0-4aa9-9914-2a80056033d8",
   "metadata": {},
   "outputs": [],
   "source": [
    "var4=1"
   ]
  },
  {
   "cell_type": "code",
   "execution_count": 36,
   "id": "d43ff955-b0be-49a3-8c6d-3d621b44736c",
   "metadata": {},
   "outputs": [
    {
     "data": {
      "text/plain": [
       "int"
      ]
     },
     "execution_count": 36,
     "metadata": {},
     "output_type": "execute_result"
    }
   ],
   "source": [
    "type(var4)"
   ]
  },
  {
   "cell_type": "markdown",
   "id": "567c38a0-511d-4b8a-abd0-68a5656318f9",
   "metadata": {},
   "source": [
    "Q3. Explain the use of the following operators using an example:\n",
    "(i) /\n",
    "(ii) %\n",
    "(iii) //\n",
    "(iv) **"
   ]
  },
  {
   "cell_type": "raw",
   "id": "b9865dc6-cad6-4997-a5e1-6a69d39fa507",
   "metadata": {},
   "source": [
    "(i) /.... Division Operator\n",
    "\n",
    "Division operator performs division between two numbers and returns the quotient as a floating-point number.( a decimal number)"
   ]
  },
  {
   "cell_type": "raw",
   "id": "642a9107-c93d-4f0d-8ff2-417bd26566e3",
   "metadata": {},
   "source": [
    "for eg:"
   ]
  },
  {
   "cell_type": "code",
   "execution_count": 60,
   "id": "a9b7db98-f83c-48dd-a895-628e0b3e4a87",
   "metadata": {},
   "outputs": [
    {
     "name": "stdout",
     "output_type": "stream",
     "text": [
      "The result of 10 divided by 5 is 2.0\n"
     ]
    }
   ],
   "source": [
    "a= 10\n",
    "b= 5\n",
    "c = a/b\n",
    "print(\"The result of\", a, \"divided by\", b, \"is\" ,c)                \n"
   ]
  },
  {
   "cell_type": "raw",
   "id": "aab91e97-f798-46e1-bff5-da750fc8696e",
   "metadata": {},
   "source": [
    "(ii) %... ModulUs Operator\n",
    "\n",
    "The Modulus operator is used to calculate the remainder when one number is divided by another. It is commonly used in programming languages to perform tasks such as checking for divisibility, cycling through a sequence of values,or implementing wrap-around behaviour."
   ]
  },
  {
   "cell_type": "code",
   "execution_count": 2,
   "id": "8d9c62dc-5ac1-41a3-bcd9-fe68ebfb9bda",
   "metadata": {},
   "outputs": [
    {
     "name": "stdout",
     "output_type": "stream",
     "text": [
      "The result of 10 divided by 2 is 0\n"
     ]
    }
   ],
   "source": [
    "a=10\n",
    "b=2\n",
    "c=a%b\n",
    "print(\"The result of\", a, \"divided by\", b, \"is\", c)"
   ]
  },
  {
   "cell_type": "raw",
   "id": "c0e7e539-78b8-4aeb-a6b3-544cf2bc5879",
   "metadata": {},
   "source": [
    "(iii) //... floor division operator:\n",
    "    \n",
    "    It performs division between two numbers and returns the quotient rounded down to the nearest whole number. It discard the decimal\n",
    "    part of the result."
   ]
  },
  {
   "cell_type": "code",
   "execution_count": 5,
   "id": "5c1ff93a-20c0-45eb-870d-fdaff20f781e",
   "metadata": {},
   "outputs": [
    {
     "name": "stdout",
     "output_type": "stream",
     "text": [
      "3\n"
     ]
    }
   ],
   "source": [
    "numb1=10\n",
    "numb2=3\n",
    "\n",
    "numb3= numb1//numb2\n",
    "print(numb3)"
   ]
  },
  {
   "cell_type": "raw",
   "id": "1e8731a3-5556-42d2-9af7-1c73f275fc0b",
   "metadata": {},
   "source": [
    "(iv) **... Exponent operator\n",
    "     The exponent operator is used to raise a number to a certain power. It calculates the result of exponentiation, where the \n",
    "    left operand is base and the right operand is the exponent."
   ]
  },
  {
   "cell_type": "code",
   "execution_count": 9,
   "id": "a2d96c46-0d20-4ef8-a341-ddaf5f874a33",
   "metadata": {},
   "outputs": [
    {
     "name": "stdout",
     "output_type": "stream",
     "text": [
      "16\n"
     ]
    }
   ],
   "source": [
    "var1=2\n",
    "var2=4\n",
    "var3=var1**var2\n",
    "print(var3)"
   ]
  },
  {
   "cell_type": "raw",
   "id": "b046c01f-7cc8-45d0-8de8-2480ae2199c7",
   "metadata": {},
   "source": [
    "Q4. Create a list of length 10 of your choice containing multiple types of data. Using for loop print the\n",
    "element and its data type."
   ]
  },
  {
   "cell_type": "code",
   "execution_count": 11,
   "id": "5279eeb8-84c7-4fe2-a88c-4414cbc38e54",
   "metadata": {},
   "outputs": [
    {
     "name": "stdout",
     "output_type": "stream",
     "text": [
      "800\n",
      "<class 'int'>\n",
      "mumbai indians\n",
      "<class 'str'>\n",
      "45.65678\n",
      "<class 'float'>\n",
      "False\n",
      "<class 'bool'>\n",
      "iplmatch\n",
      "<class 'str'>\n",
      "True\n",
      "<class 'bool'>\n",
      "(5+3j)\n",
      "<class 'complex'>\n",
      "400\n",
      "<class 'int'>\n",
      "naaz\n",
      "<class 'str'>\n",
      "(6+2j)\n",
      "<class 'complex'>\n"
     ]
    }
   ],
   "source": [
    "my_list= [ 800, 'mumbai indians', 45.65678, False, \"iplmatch\", True, 5+3j, 400, 'naaz', 6+2j]\n",
    "for i in my_list:\n",
    "    print(i)\n",
    "    print(type(i))"
   ]
  },
  {
   "cell_type": "markdown",
   "id": "d4d8a271-c292-403d-9272-da956e06e65f",
   "metadata": {},
   "source": [
    "Q5. Using a while loop, verify if the number A is purely divisible by number B and if so then how many\n",
    "times it can be divisible."
   ]
  },
  {
   "cell_type": "code",
   "execution_count": 8,
   "id": "08238e72-d4c6-44b4-a5bd-904176c7435d",
   "metadata": {},
   "outputs": [
    {
     "name": "stdout",
     "output_type": "stream",
     "text": [
      "Divisible by 5 times\n"
     ]
    }
   ],
   "source": [
    "A=70\n",
    "B=14\n",
    "t=0\n",
    "while A>=0:\n",
    "    prev_A=A\n",
    "    A=A-B\n",
    "    t+=1\n",
    "t-=1\n",
    "if prev_A==0:\n",
    "    print(\"Divisible by\",t,\"times\")\n",
    "else:\n",
    "    print(\"Not divisible\")"
   ]
  },
  {
   "cell_type": "markdown",
   "id": "817934c8-1b0e-48e6-8155-f2b6ccdc9bc1",
   "metadata": {},
   "source": [
    "Q6. Create a list containing 25 int type data. Using for loop and if-else condition print if the element is\n",
    "divisible by 3 or not."
   ]
  },
  {
   "cell_type": "code",
   "execution_count": 10,
   "id": "d02a3b17-6cd5-47d7-9eb6-b46638fb6775",
   "metadata": {},
   "outputs": [
    {
     "name": "stdout",
     "output_type": "stream",
     "text": [
      "6 it is divisable\n",
      "600 it is divisable\n",
      "5 not divisable\n",
      "2 not divisable\n",
      "8 not divisable\n",
      "900 it is divisable\n",
      "4 not divisable\n",
      "1 not divisable\n",
      "2 not divisable\n",
      "200 not divisable\n",
      "4000 not divisable\n",
      "5 not divisable\n",
      "67 not divisable\n",
      "89 not divisable\n",
      "90 it is divisable\n",
      "56 not divisable\n",
      "23 not divisable\n",
      "43 not divisable\n",
      "45 it is divisable\n",
      "54 it is divisable\n",
      "61 not divisable\n",
      "29 not divisable\n",
      "87 it is divisable\n",
      "62 not divisable\n",
      "71 not divisable\n"
     ]
    }
   ],
   "source": [
    "list= [ 6, 600, 5, 2, 8, 900, 4,1, 2,200,4000,5,67,89,90,56,23,43,45,54,61,29,87,62,71]\n",
    "for i in list:\n",
    "\n",
    "    if i%3==0:\n",
    "        print(i,'it is divisable')\n",
    "    elif i%3!=0:\n",
    "        print(i,'not divisable')\n",
    "    "
   ]
  },
  {
   "cell_type": "markdown",
   "id": "3e7cc9c9-8007-4032-a400-54d6d70a5d1e",
   "metadata": {},
   "source": [
    "Q7. What do you understand about mutable and immutable data types? Give examples for both showing\n",
    "this property."
   ]
  },
  {
   "cell_type": "raw",
   "id": "27b93431-8334-41c0-84a1-cdc464ecf032",
   "metadata": {},
   "source": [
    "1) Mutable data type:\n",
    "    Mutable data type refers to those types of data whose elements can be changed, modified or can be reassigned individually.\n",
    "    list is one kind of mutable data as because we can reassign the each and every element their."
   ]
  },
  {
   "cell_type": "code",
   "execution_count": 22,
   "id": "9c65d3d9-03a8-4c66-b0f5-8a20b0d8d3c3",
   "metadata": {},
   "outputs": [
    {
     "name": "stdout",
     "output_type": "stream",
     "text": [
      "[6, 'king', 78.9, 'queen', False, 11]\n"
     ]
    }
   ],
   "source": [
    "my_list= [ 6, 'king', 78.90, 'queen', False,10 ]\n",
    "my_list[-1]=11\n",
    "print(my_list)\n"
   ]
  },
  {
   "cell_type": "raw",
   "id": "83b6a517-14b8-4687-8651-a75be2f27683",
   "metadata": {},
   "source": [
    "2) Immutable data type:\n",
    "    Where reassignment of data is not possible on a particular index, that data will be called as immutable data\n",
    "    type.String is one of the example for immutable data type."
   ]
  },
  {
   "cell_type": "code",
   "execution_count": 24,
   "id": "50a06171-1525-422c-a4c0-6e7087bf40e1",
   "metadata": {},
   "outputs": [
    {
     "ename": "SyntaxError",
     "evalue": "cannot assign to expression here. Maybe you meant '==' instead of '='? (160312517.py, line 1)",
     "output_type": "error",
     "traceback": [
      "\u001b[0;36m  Cell \u001b[0;32mIn[24], line 1\u001b[0;36m\u001b[0m\n\u001b[0;31m    my-str = \"bengaluru\"\u001b[0m\n\u001b[0m    ^\u001b[0m\n\u001b[0;31mSyntaxError\u001b[0m\u001b[0;31m:\u001b[0m cannot assign to expression here. Maybe you meant '==' instead of '='?\n"
     ]
    }
   ],
   "source": [
    "my-str = \"bengaluru\"\n",
    "my-str[3]=h\n",
    "print( my-str)"
   ]
  },
  {
   "cell_type": "code",
   "execution_count": null,
   "id": "8d8aa68f-5d66-4c03-ad29-2fcb609e4c2a",
   "metadata": {},
   "outputs": [],
   "source": [
    "From the above output we can see that it is showing error because str type of data cannot be mutate."
   ]
  }
 ],
 "metadata": {
  "kernelspec": {
   "display_name": "Python 3 (ipykernel)",
   "language": "python",
   "name": "python3"
  },
  "language_info": {
   "codemirror_mode": {
    "name": "ipython",
    "version": 3
   },
   "file_extension": ".py",
   "mimetype": "text/x-python",
   "name": "python",
   "nbconvert_exporter": "python",
   "pygments_lexer": "ipython3",
   "version": "3.10.8"
  }
 },
 "nbformat": 4,
 "nbformat_minor": 5
}
